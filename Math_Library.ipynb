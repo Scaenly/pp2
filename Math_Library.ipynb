{
 "cells": [
  {
   "cell_type": "code",
   "execution_count": null,
   "id": "bca600d1-84ec-4e52-bc92-0acf52749b6c",
   "metadata": {},
   "outputs": [],
   "source": [
    "import math \n",
    "\n",
    "a = float(input(\"Input degree: \"))\n",
    "\n",
    "print(f\"Radian: {math.radians(a):.6f}\")"
   ]
  },
  {
   "cell_type": "code",
   "execution_count": null,
   "id": "caec85d9-6bcd-4497-8ade-74deb668394e",
   "metadata": {},
   "outputs": [],
   "source": [
    "import math \n",
    "\n",
    "h = float(input(\"Height: \"))\n",
    "a = float(input(\"first value: \"))\n",
    "b = float(input(\"Third value: \"))\n",
    "\n",
    "print(f\"area of trapezoid: {((a + b) * h) / 2}\")"
   ]
  },
  {
   "cell_type": "code",
   "execution_count": null,
   "id": "8be6b479-e990-4572-ac6c-5b8522c83228",
   "metadata": {},
   "outputs": [],
   "source": [
    "import math\n",
    "\n",
    "n = int(input(\"Input number of sides: \"))\n",
    "s = float(input(\"Input the length of a side: \"))\n",
    "\n",
    "area = (n * s**2) / (4 * math.tan(math.pi / n))\n",
    "print(f\"The area of the polygon is: {area:.6f}\")"
   ]
  },
  {
   "cell_type": "code",
   "execution_count": null,
   "id": "315c95e4-52ea-4cf8-b88e-90dac77b285c",
   "metadata": {},
   "outputs": [],
   "source": [
    "import math\n",
    "\n",
    "length = float(input(\"Length of base: \"))\n",
    "height = float(input(\"Height of parallelogram: \"))\n",
    "\n",
    "print(f\"area of parallelogram: {length * height}\")"
   ]
  }
 ],
 "metadata": {
  "kernelspec": {
   "display_name": "",
   "name": ""
  },
  "language_info": {
   "name": ""
  }
 },
 "nbformat": 4,
 "nbformat_minor": 5
}

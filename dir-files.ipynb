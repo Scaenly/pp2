{
 "cells": [
  {
   "cell_type": "code",
   "execution_count": null,
   "id": "4074e392-845d-490d-b7ee-5c987bf9e470",
   "metadata": {},
   "outputs": [],
   "source": [
    "import os\n",
    "\n",
    "path = r\"C:\\Users\\Legion 5\\Desktop\\Files\\PP2_Github\\Labs\\Lab6\"\n",
    "\n",
    "contents_of_the_path = os.scandir(path)\n",
    "files = []\n",
    "dirs = []\n",
    "\n",
    "for content in contents_of_the_path:\n",
    "    if content.is_file():\n",
    "        files.append(content.name)\n",
    "    elif content.is_dir():\n",
    "        dirs.append(content.name)\n",
    "\n",
    "print(f\"Files: {files}\")\n",
    "print(f\"Dirs: {dirs}\")\n",
    "print(f\"Total: {files + dirs}\")\n",
    "\n"
   ]
  },
  {
   "cell_type": "code",
   "execution_count": null,
   "id": "0c9b7e71-a26b-4b33-97af-eeb1021a46b1",
   "metadata": {},
   "outputs": [],
   "source": [
    "import os\n",
    "\n",
    "path = r'C:\\Users\\Legion 5\\Desktop\\Files\\PP2_Github\\Labs\\Lab6\\dir-and-files\\Task1.py'\n",
    "\n",
    "\n",
    "print(\"Existence:\", os.access(path, os.F_OK)) # Existence\n",
    "print(\"Readability:\", os.access(path, os.R_OK)) # Readability\n",
    "print(\"Writability:\", os.access(path, os.W_OK)) # Writeability\n",
    "print(\"Executability:\", os.access(path, os.X_OK)) # Executeability\n"
   ]
  },
  {
   "cell_type": "code",
   "execution_count": null,
   "id": "d31e7856-ca3e-4f41-8f8b-53c0ea590a9a",
   "metadata": {},
   "outputs": [],
   "source": [
    "import os\n",
    "\n",
    "def path_info(path):\n",
    "    print(\"------------------------------------------------------------------------------\")\n",
    "    if os.access(path, os.F_OK):\n",
    "        \n",
    "        if os.path.isfile(path):\n",
    "            print(\"File name:\", os.path.basename(path))\n",
    "        else: \n",
    "            print(\"This is not a file (probably a directory)\")\n",
    "\n",
    "        print(\"Directory:\", os.path.dirname(path))\n",
    "\n",
    "    else:\n",
    "        print(\"Path does not exist\")\n",
    "\n",
    "\n",
    "\n",
    "path = r\"C:\\Users\\Legion 5\\Desktop\\Files\\PP2_Github\\Labs\\Lab6\\dir-and-files\\Task1.py\" #File\n",
    "path_info(path)\n",
    "\n",
    "path = r\"C:\\Users\\Legion 5\\Desktop\\Files\\PP2_Github\\Labs\\Lab6\\dir-and-files\" #Directory\n",
    "path_info(path)\n",
    "\n",
    "path = r\"C:\\Users\\Legion 5\\Desktop\\Files\\PP2_Github\\Labs\\Lab6\\something\" #Does not exist    \n",
    "path_info(path)\n",
    "print(\"------------------------------------------------------------------------------\")\n"
   ]
  },
  {
   "cell_type": "code",
   "execution_count": null,
   "id": "ef3df7b1-c8b2-4dec-84a9-01e2bdbad74b",
   "metadata": {},
   "outputs": [],
   "source": [
    "file_name = 'Lab6/dir-and-files/Task4.txt'\n",
    "file = open(file_name)\n",
    "\n",
    "lines_list = list(file)\n",
    "print('Length:', len(lines_list))"
   ]
  },
  {
   "cell_type": "code",
   "execution_count": null,
   "id": "fec0bc3b-9548-4195-97d1-7867c4409cbe",
   "metadata": {},
   "outputs": [],
   "source": [
    "John's email is john.doe@example.com, and his backup is johndoe123@work.net.  \n",
    "Call him at +1-555-123-4567 or his office line (555) 765-4321.  \n",
    "His website is https://www.johndoe.dev, and his IP address is 192.168.0.1.  \n",
    "The price of the item is $19.99, but with a discount, it’s now $14.99.  \n",
    "Today's date is 17/02/2025, and another format is 2025-02-17.  \n",
    "Here’s some HTML: <div class=\"container\">Hello, World!</div>  \n",
    "Watch out for special characters like !@#$%^&*()_+={}[]|:;\"'<>,.?/\n",
    "\n",
    "A regular expression (or RE) specifies a set of strings that matches it; \n",
    "the functions in this module let you check if a particular string matches a given regular expression (or if a given regular expression matches a particular string, which comes down to the same thing). \n",
    "Regular expressions can be concatenated to form new regular expressions; \n",
    "if A and B are both regular expressions, then AB is also a regular expression. \n",
    "In general, if a string p matches A and another string q matches B, the string pq will match AB. \n",
    "This holds unless A or B contain low precedence operations; boundary conditions between A and B; \n",
    "or have numbered group references. \n",
    "Thus, complex expressions can easily be constructed from simpler primitive expressions like the ones described here. \n",
    "For details of the theory and implementation of regular expressions, consult the Friedl book [Frie09], or almost any textbook about compiler construction. \n",
    "A brief explanation of the format of regular expressions follows. \n",
    "For further information and a gentler presentation, consult the Regular Expression HOWTO. \n",
    "Regular expressions can contain both special and ordinary characters. \n",
    "Most ordinary characters, like 'A', 'a', or '0', are the simplest regular expressions; \n",
    "they simply match themselves. You can concatenate ordinary characters, so last matches the string 'last'. \n",
    "(In the rest of this section, we’ll write RE’s in this special style, usually without quotes, and strings to be matched 'in single quotes'.)"
   ]
  },
  {
   "cell_type": "code",
   "execution_count": null,
   "id": "335d0409-8634-4163-8602-153523220ae4",
   "metadata": {},
   "outputs": [],
   "source": []
  }
 ],
 "metadata": {
  "kernelspec": {
   "display_name": "",
   "name": ""
  },
  "language_info": {
   "name": ""
  }
 },
 "nbformat": 4,
 "nbformat_minor": 5
}

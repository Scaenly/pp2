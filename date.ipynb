{
 "cells": [
  {
   "cell_type": "code",
   "execution_count": 1,
   "id": "9e29e365-f037-43d7-b1b6-0e9448fdb4c3",
   "metadata": {
    "scrolled": true
   },
   "outputs": [
    {
     "name": "stdout",
     "output_type": "stream",
     "text": [
      "Current data:  2025-02-17\n",
      "Substract five days:  2025-02-12\n"
     ]
    }
   ],
   "source": [
    "from datetime import date, timedelta \n",
    "\n",
    "a = date.today()\n",
    "b = a - timedelta(days=5)\n",
    "\n",
    "print(\"Current data: \", a)\n",
    "print(\"Substract five days: \", b)"
   ]
  },
  {
   "cell_type": "code",
   "execution_count": 3,
   "id": "f6f16fc4-0de2-4d5d-8de5-9877ecfafe84",
   "metadata": {},
   "outputs": [
    {
     "name": "stdout",
     "output_type": "stream",
     "text": [
      "Yesterday: 2025-02-16\n",
      "Today: 2025-02-17\n",
      "Tomorrow: 2025-02-18\n"
     ]
    }
   ],
   "source": [
    "from datetime import date, timedelta \n",
    "\n",
    "today = date.today()\n",
    "yesterday = today - timedelta(days=1)\n",
    "tomorrow = today + timedelta(days=1)\n",
    "\n",
    "print(f\"Yesterday: {yesterday}\")\n",
    "print(f\"Today: {today}\")\n",
    "print(f\"Tomorrow: {tomorrow}\")"
   ]
  },
  {
   "cell_type": "code",
   "execution_count": 5,
   "id": "e42d0bc4-2d1e-47b0-a2a0-0391a585f16b",
   "metadata": {},
   "outputs": [
    {
     "name": "stdout",
     "output_type": "stream",
     "text": [
      "2025-02-17 17:37:47\n"
     ]
    }
   ],
   "source": [
    "from datetime import datetime\n",
    "\n",
    "current_date = datetime.now().replace(microsecond=0)  # Убираем микросекунды\n",
    "b = current_date.strftime(\"%Y-%m-%d %H:%M:%S\")\n",
    "\n",
    "print(b)"
   ]
  },
  {
   "cell_type": "code",
   "execution_count": 7,
   "id": "88c2a56b-3683-438a-9a04-1b8d1ec38c61",
   "metadata": {},
   "outputs": [
    {
     "name": "stdout",
     "output_type": "stream",
     "text": [
      "Разница в секундах: 172800.0\n"
     ]
    }
   ],
   "source": [
    "from datetime import datetime,timedelta\n",
    "\n",
    "current_date = datetime.now()\n",
    "\n",
    "tomorrow = (current_date + timedelta(days=1)).timestamp()\n",
    "yesterday = (current_date - timedelta(days=1)).timestamp()\n",
    "\n",
    "print(f\"Разница в секундах: {tomorrow - yesterday}\")"
   ]
  }
 ],
 "metadata": {
  "kernelspec": {
   "display_name": "Python [conda env:base] *",
   "language": "python",
   "name": "conda-base-py"
  },
  "language_info": {
   "codemirror_mode": {
    "name": "ipython",
    "version": 3
   },
   "file_extension": ".py",
   "mimetype": "text/x-python",
   "name": "python",
   "nbconvert_exporter": "python",
   "pygments_lexer": "ipython3",
   "version": "3.12.7"
  }
 },
 "nbformat": 4,
 "nbformat_minor": 5
}

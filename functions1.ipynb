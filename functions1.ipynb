{
 "cells": [
  {
   "cell_type": "code",
   "execution_count": null,
   "id": "f0da54e4-80a3-444b-8916-e7a11c5b84cc",
   "metadata": {},
   "outputs": [],
   "source": [
    "grams=int(input())\n",
    "def gram_to_ounces(grams):\n",
    "   return (grams*28.3495231)\n",
    "print(gram_to_ounces(grams))"
   ]
  },
  {
   "cell_type": "code",
   "execution_count": null,
   "id": "ad9fc83d-2afd-439a-8e28-6cba06b7d564",
   "metadata": {},
   "outputs": [],
   "source": [
    "F=int(input())\n",
    "def C_to_F(F):\n",
    "     return (5 / 9) * (F-32)\n",
    "print(C_to_F(F))"
   ]
  },
  {
   "cell_type": "code",
   "execution_count": null,
   "id": "0d4e1113-ca23-4499-82a8-29ba59a81271",
   "metadata": {},
   "outputs": [],
   "source": [
    "heads=int(input())\n",
    "legs=int(input())\n",
    "def numC_numR(heads,legs):\n",
    "    #x+y=heads\n",
    "    #x*2+y*4=legs\n",
    "    x=(legs-2*heads)//2  \n",
    "    y=heads-x\n",
    "    return f\"Rabbits:{x} , Chikens:{y}\" #记住这个syntax\n",
    "    \n",
    "print(numC_numR(heads,legs))\n",
    "\n",
    "\n",
    "\n",
    "\n",
    "\n",
    "\n",
    "'''\n",
    "print(5 // 2)  # Нәтиже: 2  (бүтін сан)\n",
    "print(10 // 5) # Нәтиже: 2  (бүтін сан)\n",
    "'''"
   ]
  },
  {
   "cell_type": "code",
   "execution_count": null,
   "id": "b62cb8c0-0ced-4146-9788-d1d59f31cdf6",
   "metadata": {},
   "outputs": [],
   "source": [
    "L=list(map(int, input().split()))\n",
    "def isprime(n):\n",
    "    if n<2:\n",
    "        return False\n",
    "    for i in range(2, int(n**0.5)+1):       \n",
    "        if n % i == 0:\n",
    "            return False\n",
    "    return True \n",
    "def print_prime(L):\n",
    "    for x in L:\n",
    "        if isprime(x):\n",
    "            print(x,end=\" \")                 \n",
    "print_prime(L)\n",
    "\n",
    "    "
   ]
  },
  {
   "cell_type": "code",
   "execution_count": null,
   "id": "c3854eae-0c7b-4a48-bec3-bcd60e25c1dc",
   "metadata": {},
   "outputs": [],
   "source": [
    "from itertools import permutations\n",
    "s=str(input())\n",
    "def print_perm(s):\n",
    "    perms=permutations(s)\n",
    "    for p in perms:\n",
    "        print(\"\".join(p))           \n",
    "print_perm(s)\n",
    "\n",
    "\n",
    "'''\n",
    "p = ('a', 'b', 'c')\n",
    "print(\"\".join(p))   这两行会output : abc （也就是把它们连在一起）\n",
    "'''  "
   ]
  },
  {
   "cell_type": "code",
   "execution_count": null,
   "id": "c54942de-4a8c-44ca-b76b-dcf41d8dac3a",
   "metadata": {},
   "outputs": [],
   "source": [
    "sentence=(input())\n",
    "def reverse_sen(sentence):\n",
    "    words=sentence.split()              # words is a list here to store many value(words)\n",
    "    return \" \".join(reversed(words))\n",
    "print(reverse_sen(sentence))"
   ]
  },
  {
   "cell_type": "code",
   "execution_count": null,
   "id": "f581bc31-07ad-4736-bafb-e73bb43a8f39",
   "metadata": {},
   "outputs": [],
   "source": [
    "L=list(map(int,input().split()))\n",
    "def array_check(L):\n",
    "    for i in range (0,len(L)-1):\n",
    "        if L[i]==3 and L[i+1]==3 :\n",
    "            return True\n",
    "    return False\n",
    "print(array_check(L))\n",
    "\n",
    "  "
   ]
  },
  {
   "cell_type": "code",
   "execution_count": null,
   "id": "4050acfd-efc9-4357-b778-6209ccb057e6",
   "metadata": {},
   "outputs": [],
   "source": [
    "L=list(map(int,input().split()))\n",
    "def list_check(L):\n",
    "    sublist=[0,0,7]\n",
    "    i=0\n",
    "    for number in L :\n",
    "        if number == sublist[i]:\n",
    "            i=i+1\n",
    "        if i == len(sublist):\n",
    "            return True\n",
    "    return False\n",
    "print(list_check(L))\n",
    "\n",
    "# 1 2 3 0 2 0 2 7\n",
    "         "
   ]
  },
  {
   "cell_type": "code",
   "execution_count": null,
   "id": "9e8d2e82-2f04-4335-9df0-ccf6e63fb7e5",
   "metadata": {},
   "outputs": [],
   "source": [
    "L=list(map(int,input().split()))\n",
    "def uniquelist(L):\n",
    "    uniqL=[]\n",
    "    for num in L:\n",
    "        if num not in uniqL:\n",
    "            uniqL.append(num)\n",
    "    return uniqL\n",
    "print(uniquelist(L))\n",
    "#print(\" \".join(map(str, uniquelist(L))))"
   ]
  },
  {
   "cell_type": "code",
   "execution_count": null,
   "id": "672b45bb-a741-4602-8b40-b7732209a9d8",
   "metadata": {},
   "outputs": [],
   "source": [
    "word = str(input())\n",
    "def palin(word):\n",
    "    for i in range (0,len(word)//2):            #//2 可以节省时间\n",
    "        if word[i]!=word[len(word)-i-1] :       \n",
    "            return False\n",
    "    return True\n",
    "print(palin(word))"
   ]
  },
  {
   "cell_type": "code",
   "execution_count": null,
   "id": "c46c138e-33ed-45ef-8216-8a2642c86705",
   "metadata": {},
   "outputs": [],
   "source": [
    "L=list(map(int,input().split()))\n",
    "def histogram(L):\n",
    "    for num in L:\n",
    "        print(\"*\"*num)\n",
    "histogram(L)"
   ]
  },
  {
   "cell_type": "code",
   "execution_count": null,
   "id": "e0c2b5bb-f4a9-49f1-bee0-55fd56566351",
   "metadata": {},
   "outputs": [],
   "source": []
  }
 ],
 "metadata": {
  "kernelspec": {
   "display_name": "Python [conda env:base] *",
   "language": "python",
   "name": "conda-base-py"
  },
  "language_info": {
   "codemirror_mode": {
    "name": "ipython",
    "version": 3
   },
   "file_extension": ".py",
   "mimetype": "text/x-python",
   "name": "python",
   "nbconvert_exporter": "python",
   "pygments_lexer": "ipython3",
   "version": "3.12.7"
  }
 },
 "nbformat": 4,
 "nbformat_minor": 5
}

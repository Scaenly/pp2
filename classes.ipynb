{
 "cells": [
  {
   "cell_type": "code",
   "execution_count": null,
   "id": "2b3eb4b0-3ac3-4470-9077-bd83525bbee1",
   "metadata": {},
   "outputs": [],
   "source": [
    "class classss:\n",
    "    def init(self):\n",
    "        self.string= \"\"\n",
    "\n",
    "    def getString(self):\n",
    "        self.string= input(\"输入string: \")\n",
    "\n",
    "    def printString(self):\n",
    "        print(self.string.upper())\n",
    "\n",
    "obj = classss()\n",
    "obj.getString()\n",
    "obj.printString()"
   ]
  },
  {
   "cell_type": "code",
   "execution_count": null,
   "id": "09c8ea34-8909-4e28-8af7-e1fddae27016",
   "metadata": {},
   "outputs": [],
   "source": [
    "class Shape:\n",
    "    def _init_(self):\n",
    "        self.area_value = 0\n",
    "    def area(self):\n",
    "        return self.area_value\n",
    "\n",
    "class Square(Shape):\n",
    "    def _init_(self, length):\n",
    "        super()._init_()\n",
    "        self.length = length\n",
    "\n",
    "    def area(self):\n",
    "        return self.length ** 2\n",
    "\n",
    "sq = Square(5)\n",
    "print(sq.area())  "
   ]
  },
  {
   "cell_type": "code",
   "execution_count": null,
   "id": "86f40428-aa5e-42d9-8fff-9ef35765c63c",
   "metadata": {},
   "outputs": [],
   "source": [
    "class Shape:\n",
    "    def _init_(self):\n",
    "        pass  \n",
    "\n",
    "class Rectangle(Shape):\n",
    "    def _init_(self, length, width):\n",
    "        super()._init()  \n",
    "        self.length = length  \n",
    "        self.width = width \n",
    "    def area(self):\n",
    "        return self.length * self.width  \n",
    "\n",
    "\n",
    "rect = Rectangle(4, 5)\n",
    "\n",
    "\n",
    "print(rect.area())  "
   ]
  },
  {
   "cell_type": "code",
   "execution_count": null,
   "id": "162835e2-4f6f-47e1-87e1-73f0150a46b4",
   "metadata": {},
   "outputs": [],
   "source": [
    "import math  \n",
    "\n",
    "class Point:\n",
    "    def _init_(self, x, y):\n",
    "        self.x = x  \n",
    "        self.y = y  \n",
    "\n",
    "    def show(self):\n",
    "        print(f\"({self.x}, {self.y})\")\n",
    "    def move(self, dx, dy):\n",
    "        self.x += dx  \n",
    "        self.y += dy  \n",
    "\n",
    "    def dist(self, other_point):\n",
    "        return math.sqrt((self.x - other_point.x) * 2 + (self.y - other_point.y) * 2)\n",
    "\n",
    "\n",
    "p1 = Point(1, 2)  \n",
    "p2 = Point(4, 6)  \n",
    "\n",
    "\n",
    "print(p1.dist(p2))  "
   ]
  },
  {
   "cell_type": "code",
   "execution_count": null,
   "id": "1ebd9dd4-82a7-4cd7-9a91-fcc0b95a57c9",
   "metadata": {},
   "outputs": [],
   "source": [
    "class BankAccount:\n",
    "    def _init_(self, owner, balance=0):\n",
    "        self.owner = owner\n",
    "        self.balance = balance\n",
    "\n",
    "    def deposit(self, amount):\n",
    "        self.balance += amount\n",
    "        print(f\"Deposit {amount}. New balance: {self.balance}\")\n",
    "\n",
    "    def withdraw(self, amount):    \n",
    "        if amount > self.balance:\n",
    "            print(\"Insufficient funds!\")\n",
    "        else:\n",
    "            self.balance -= amount\n",
    "            print(f\"Withdrawal {amount}. New balance: {self.balance}\")\n",
    "\n",
    "acc = BankAccount(\"Alice\", 100)\n",
    "acc.deposit(50)\n",
    "acc.withdraw(30)\n",
    "acc.withdraw(200)"
   ]
  },
  {
   "cell_type": "code",
   "execution_count": null,
   "id": "a9ff4817-99ae-49df-ab9c-e37154fdc824",
   "metadata": {},
   "outputs": [],
   "source": [
    "def is_prime(n):\n",
    "    if n < 2:\n",
    "        return False\n",
    "    for i in range(2, int(n ** 0.5) + 1):\n",
    "        if n % i == 0:\n",
    "            return False\n",
    "    return True\n",
    "\n",
    "def filter_prime(numbers):\n",
    "    return list(filter(is_prime, numbers))\n",
    "\n",
    "print(filter_prime([1, 2, 3, 4, 5, 6, 7, 8, 9, 10]))"
   ]
  }
 ],
 "metadata": {
  "kernelspec": {
   "display_name": "Python [conda env:base] *",
   "language": "python",
   "name": "conda-base-py"
  },
  "language_info": {
   "codemirror_mode": {
    "name": "ipython",
    "version": 3
   },
   "file_extension": ".py",
   "mimetype": "text/x-python",
   "name": "python",
   "nbconvert_exporter": "python",
   "pygments_lexer": "ipython3",
   "version": "3.12.7"
  }
 },
 "nbformat": 4,
 "nbformat_minor": 5
}

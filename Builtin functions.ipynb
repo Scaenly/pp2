{
 "cells": [
  {
   "cell_type": "code",
   "execution_count": null,
   "id": "3f9d89bd-1799-4c25-a83e-433f67635d10",
   "metadata": {},
   "outputs": [],
   "source": [
    "import functools\n",
    "\n",
    "numbers = [1,2, 3, 4, 5, 6, 7, 8, 9, 10]\n",
    "\n",
    "result = functools.reduce(lambda x, y: x * y , numbers)\n",
    "\n",
    "print (numbers)\n",
    "print(result)"
   ]
  },
  {
   "cell_type": "code",
   "execution_count": null,
   "id": "142a1f8b-9eb2-4cf2-9eeb-99ec88d8c7c6",
   "metadata": {},
   "outputs": [],
   "source": [
    "s = input()\n",
    "\n",
    "upper_count = len(list(filter(str.isupper, s)))\n",
    "lower_count = len(list(filter(str.islower, s)))\n",
    "\n",
    "print(f\"Uppercase letters: {upper_count}\")\n",
    "print(f\"Lowercase letters: {lower_count}\")"
   ]
  },
  {
   "cell_type": "code",
   "execution_count": null,
   "id": "84e3daa0-249e-4856-b0ef-2368a439bf78",
   "metadata": {},
   "outputs": [],
   "source": [
    "str = input()\n",
    "rev = \"\".join(reversed(str))\n",
    "if str == rev:\n",
    "    print(\"Yes\")\n",
    "else:\n",
    "    print(\"No\")"
   ]
  }
 ],
 "metadata": {
  "kernelspec": {
   "display_name": "",
   "name": ""
  },
  "language_info": {
   "name": ""
  }
 },
 "nbformat": 4,
 "nbformat_minor": 5
}

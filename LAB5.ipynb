{
 "cells": [
  {
   "cell_type": "code",
   "execution_count": null,
   "id": "3292b9ff-841f-4e50-a786-5f905c50da89",
   "metadata": {},
   "outputs": [],
   "source": [
    "import re\n",
    "with open('text.txt') as file:\n",
    "    text = file.read()\n",
    "\n",
    "pattern = 'ab*'\n",
    "\n",
    "result = re.findall(pattern, text)\n",
    "\n",
    "print(result)"
   ]
  },
  {
   "cell_type": "code",
   "execution_count": null,
   "id": "85b7699e-5729-485b-96f4-b772602b521f",
   "metadata": {},
   "outputs": [],
   "source": [
    "import re\n",
    "with open('text.txt') as file:\n",
    "    text = file.read()\n",
    "\n",
    "pattern = 'ab{2,3}'\n",
    "# ab abbbb, aaaabbb Aaaaabb. alkjlkjlkb\n",
    "\n",
    "result = re.findall(pattern, text)\n",
    "\n",
    "print(result)"
   ]
  },
  {
   "cell_type": "code",
   "execution_count": null,
   "id": "92fafc0a-06af-4a6f-8ce5-e7f7b82f529e",
   "metadata": {},
   "outputs": [],
   "source": [
    "import re\n",
    "with open('text.txt') as file:\n",
    "    text = file.read()\n",
    "# The price of the item_is $19.99, but with a_ discount, it’s now $14.99. \n",
    "\n",
    "pattern = '[a-z]_[a-z]'\n",
    "\n",
    "result = re.findall(pattern, text)\n",
    "\n",
    "print(result)"
   ]
  },
  {
   "cell_type": "code",
   "execution_count": null,
   "id": "ead8b3c3-5f0a-417a-95e7-cea6e48e5495",
   "metadata": {},
   "outputs": [],
   "source": [
    "import re\n",
    "with open('text.txt') as file:\n",
    "    text = file.read()\n",
    "\n",
    "pattern = r'[A-Z][a-z]+'\n",
    "\n",
    "result = re.findall(pattern, text)\n",
    "\n",
    "print(result)"
   ]
  },
  {
   "cell_type": "code",
   "execution_count": null,
   "id": "56ffc5f9-2dda-43d4-81a5-6a0b27c1ce10",
   "metadata": {},
   "outputs": [],
   "source": [
    "import re\n",
    "with open('text.txt') as file:\n",
    "    text = file.read()\n",
    "\n",
    "pattern = 'a.*b'\n",
    "\n",
    "result = re.findall(pattern, text)\n",
    "\n",
    "print(result)"
   ]
  },
  {
   "cell_type": "code",
   "execution_count": null,
   "id": "955d6655-10b7-4d25-a323-eccc4b17fbd7",
   "metadata": {},
   "outputs": [],
   "source": [
    "import re\n",
    "with open('text.txt') as file:\n",
    "    text = file.read()\n",
    "\n",
    "pattern = '[\\s,.]'\n",
    "\n",
    "result = re.sub(pattern, ':', text)\n",
    "print(result)"
   ]
  },
  {
   "cell_type": "code",
   "execution_count": null,
   "id": "7045ef92-d9d5-4d3b-9376-92b5aed9d2d9",
   "metadata": {},
   "outputs": [],
   "source": [
    "import re\n",
    "text = \"aaa_bbb_ccc_ddd_eee!_fff.\"\n",
    "# text = \"AaaBbbCccDddEee!Fff.\"\n",
    "\n",
    "pattern = '_'\n",
    "\n",
    "st2list = re.split('_', text)\n",
    "\n",
    "cap_list = []\n",
    "\n",
    "for i in st2list:\n",
    "    i = i.capitalize()\n",
    "    cap_list.append(i)\n",
    "\n",
    "for i in cap_list:\n",
    "    print(i, end='')"
   ]
  },
  {
   "cell_type": "code",
   "execution_count": null,
   "id": "acb4db0f-5d32-4c7d-be35-394d96cd38e4",
   "metadata": {},
   "outputs": [],
   "source": [
    "import re\n",
    "# with open('text.txt') as file:\n",
    "#     text = file.read()\n",
    "\n",
    "text = \"HeLLoWorldThisIsPython\"\n",
    "\n",
    "pattern = '[A-Z][^A-Z]*'\n",
    "result = re.findall(pattern, text)\n",
    "\n",
    "print(result)"
   ]
  },
  {
   "cell_type": "code",
   "execution_count": null,
   "id": "d05170b3-a14a-4a4a-a9d0-958f3ed9b87d",
   "metadata": {},
   "outputs": [],
   "source": [
    "import re\n",
    "# with open('text.txt') as file:\n",
    "#     text = file.read()\n",
    "\n",
    "text = \"HeLLoWorldThisIsPython\"\n",
    "\n",
    "pattern = '[A-Z][^A-Z]*'\n",
    "result = re.findall(pattern, text)\n",
    "\n",
    "for i in result:\n",
    "    print(i, end=' ')"
   ]
  },
  {
   "cell_type": "code",
   "execution_count": null,
   "id": "22a8c8d1-0637-46bf-8c32-5449386fc800",
   "metadata": {},
   "outputs": [],
   "source": [
    "import re\n",
    "# text = \"aaa_bbb_ccc_ddd_eee!_fff.\"\n",
    "text = \"AaaBbbCccDddEee!Fff.\"\n",
    "\n",
    "pattern = '[A-Z][^A-Z]*'\n",
    "st2list = re.findall(pattern, text)\n",
    "\n",
    "# casefold()\n",
    "\n",
    "low_list = []\n",
    "\n",
    "for i in st2list:\n",
    "    i = i.casefold()\n",
    "    low_list.append(i)\n",
    "\n",
    "for i in low_list:\n",
    "    print(i, end='_')"
   ]
  }
 ],
 "metadata": {
  "kernelspec": {
   "display_name": "",
   "name": ""
  },
  "language_info": {
   "name": ""
  }
 },
 "nbformat": 4,
 "nbformat_minor": 5
}
